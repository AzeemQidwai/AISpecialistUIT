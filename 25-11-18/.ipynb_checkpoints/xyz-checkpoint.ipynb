{
 "cells": [
  {
   "cell_type": "markdown",
   "metadata": {},
   "source": [
    "# Pyhton Introduction"
   ]
  },
  {
   "cell_type": "code",
   "execution_count": 22,
   "metadata": {},
   "outputs": [
    {
     "name": "stdout",
     "output_type": "stream",
     "text": [
      "Hello World\n"
     ]
    }
   ],
   "source": [
    "%run abc.py"
   ]
  },
  {
   "cell_type": "markdown",
   "metadata": {},
   "source": [
    "# Variables and Data Types"
   ]
  },
  {
   "cell_type": "code",
   "execution_count": 25,
   "metadata": {},
   "outputs": [
    {
     "name": "stdout",
     "output_type": "stream",
     "text": [
      "==========Student Registration Card==========\n",
      "\n",
      "Student Name:  Azeem Ahmed\n",
      "CNIC#  42101-8199856-1\n",
      "Reg#  2092/2018\n"
     ]
    }
   ],
   "source": [
    "name = 'Azeem Ahmed'\n",
    "cnic = '42101-8199856-1'\n",
    "registration_no = '2092/2018'\n",
    "\n",
    "\n",
    "print(\"==========Student Registration Card==========\\n\")\n",
    "print(\"Student Name: \", name)\n",
    "print(\"CNIC# \", cnic)\n",
    "print(\"Reg# \", registration_no)\n"
   ]
  }
 ],
 "metadata": {
  "kernelspec": {
   "display_name": "Python 3",
   "language": "python",
   "name": "python3"
  },
  "language_info": {
   "codemirror_mode": {
    "name": "ipython",
    "version": 3
   },
   "file_extension": ".py",
   "mimetype": "text/x-python",
   "name": "python",
   "nbconvert_exporter": "python",
   "pygments_lexer": "ipython3",
   "version": "3.7.0"
  }
 },
 "nbformat": 4,
 "nbformat_minor": 2
}
